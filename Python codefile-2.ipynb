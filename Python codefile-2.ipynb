{
  "nbformat": 4,
  "nbformat_minor": 0,
  "metadata": {
    "colab": {
      "provenance": [],
      "authorship_tag": "ABX9TyNnqZj2PNqR5RW74YUpxdcR",
      "include_colab_link": true
    },
    "kernelspec": {
      "name": "python3",
      "display_name": "Python 3"
    },
    "language_info": {
      "name": "python"
    }
  },
  "cells": [
    {
      "cell_type": "markdown",
      "metadata": {
        "id": "view-in-github",
        "colab_type": "text"
      },
      "source": [
        "<a href=\"https://colab.research.google.com/github/Chandrahas34567/Python-programming/blob/main/Python%20codefile-2.ipynb\" target=\"_parent\"><img src=\"https://colab.research.google.com/assets/colab-badge.svg\" alt=\"Open In Colab\"/></a>"
      ]
    },
    {
      "cell_type": "code",
      "execution_count": 1,
      "metadata": {
        "colab": {
          "base_uri": "https://localhost:8080/"
        },
        "id": "j6B5GKvLuV_V",
        "outputId": "48c5f3fc-231b-4109-c146-c4ca49791ac2"
      },
      "outputs": [
        {
          "output_type": "stream",
          "name": "stdout",
          "text": [
            "BFS Path: ['A', 'C', 'F', 'G']\n",
            "A* Path: ['A', 'B', 'D', 'G']\n"
          ]
        }
      ],
      "source": [
        "import heapq\n",
        "from collections import deque\n",
        "\n",
        "# Example Graph (Adjacency List with Weights)\n",
        "graph = {\n",
        "    'A': {'B': 1, 'C': 4},\n",
        "    'B': {'D': 2, 'E': 5},\n",
        "    'C': {'F': 3},\n",
        "    'D': {'G': 1},\n",
        "    'E': {'G': 1},\n",
        "    'F': {'G': 2},\n",
        "    'G': {}\n",
        "}\n",
        "\n",
        "# Heuristic values (for A* Search)\n",
        "heuristic = {\n",
        "    'A': 7,\n",
        "    'B': 6,\n",
        "    'C': 5,\n",
        "    'D': 3,\n",
        "    'E': 2,\n",
        "    'F': 4,\n",
        "    'G': 0  # Goal node\n",
        "}\n",
        "\n",
        "# Breadth-First Search (Uninformed Search)\n",
        "def bfs(graph, start, goal):\n",
        "    queue = deque([start])\n",
        "    visited = set()\n",
        "    parent = {start: None}\n",
        "\n",
        "    while queue:\n",
        "        current = queue.popleft()\n",
        "        if current in visited:\n",
        "            continue\n",
        "        visited.add(current)\n",
        "\n",
        "        # Check if the goal is reached\n",
        "        if current == goal:\n",
        "            # Reconstruct the path\n",
        "            path = []\n",
        "            while current:\n",
        "                path.append(current)\n",
        "                current = parent[current]\n",
        "            return path[::-1]  # Return reversed path\n",
        "\n",
        "        for neighbor in graph[current]:\n",
        "            if neighbor not in visited:\n",
        "                queue.append(neighbor)\n",
        "                parent[neighbor] = current\n",
        "\n",
        "    return None  # Goal not found\n",
        "\n",
        "# A* Search (Informed Search)\n",
        "def a_star(graph, heuristic, start, goal):\n",
        "    priority_queue = []\n",
        "    heapq.heappush(priority_queue, (0 + heuristic[start], 0, start))  # (f_score, g_score, node)\n",
        "    visited = set()\n",
        "    parent = {start: None}\n",
        "\n",
        "    while priority_queue:\n",
        "        _, g_score, current = heapq.heappop(priority_queue)\n",
        "\n",
        "        if current in visited:\n",
        "            continue\n",
        "        visited.add(current)\n",
        "\n",
        "        # Check if the goal is reached\n",
        "        if current == goal:\n",
        "            # Reconstruct the path\n",
        "            path = []\n",
        "            while current:\n",
        "                path.append(current)\n",
        "                current = parent[current]\n",
        "            return path[::-1]  # Return reversed path\n",
        "\n",
        "        for neighbor, cost in graph[current].items():\n",
        "            if neighbor not in visited:\n",
        "                new_g_score = g_score + cost\n",
        "                f_score = new_g_score + heuristic[neighbor]\n",
        "                heapq.heappush(priority_queue, (f_score, new_g_score, neighbor))\n",
        "                parent[neighbor] = current\n",
        "\n",
        "    return None  # Goal not found\n",
        "\n",
        "# Example Usage\n",
        "start_node = 'A'\n",
        "goal_node = 'G'\n",
        "\n",
        "# BFS Result\n",
        "bfs_path = bfs(graph, start_node, goal_node)\n",
        "print(\"BFS Path:\", bfs_path)\n",
        "\n",
        "# A* Result\n",
        "a_star_path = a_star(graph, heuristic, start_node, goal_node)\n",
        "print(\"A* Path:\", a_star_path)\n"
      ]
    }
  ]
}