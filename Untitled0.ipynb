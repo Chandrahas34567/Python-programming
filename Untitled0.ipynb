{
  "nbformat": 4,
  "nbformat_minor": 0,
  "metadata": {
    "colab": {
      "provenance": []
    },
    "kernelspec": {
      "name": "python3",
      "display_name": "Python 3"
    },
    "language_info": {
      "name": "python"
    }
  },
  "cells": [
    {
      "cell_type": "code",
      "execution_count": 8,
      "metadata": {
        "colab": {
          "base_uri": "https://localhost:8080/"
        },
        "id": "XmIiw5KBCLNX",
        "outputId": "c9050434-809a-4b92-fe38-cef17c83006c"
      },
      "outputs": [
        {
          "output_type": "stream",
          "name": "stdout",
          "text": [
            "Enter number of nodes: 6\n",
            "Enter number of edges: 7\n",
            "Enter edge (from to):  0 1\n",
            "Enter edge (from to):  0   2\n",
            "Enter edge (from to): 1   2\n",
            "Enter edge (from to): 1 3\n",
            "Enter edge (from to): 2 5\n",
            "Enter edge (from to): 2 6\n",
            "Enter edge (from to): 2  7\n",
            "Enter goal node: 6\n",
            "Enter depth limit: 3\n",
            "Goal found within the depth limit.\n"
          ]
        }
      ],
      "source": [
        "from collections import defaultdict\n",
        "\n",
        "# Input the number of nodes and edges\n",
        "n = int(input(\"Enter number of nodes: \"))\n",
        "e = int(input(\"Enter number of edges: \"))\n",
        "\n",
        "# Create a graph using defaultdict\n",
        "graph = defaultdict(list)\n",
        "\n",
        "# Input edges\n",
        "for _ in range(e):\n",
        "    i, j = map(int, input(\"Enter edge (from to): \").split())\n",
        "    graph[i].append(j)  # Add directed edge from i to j\n",
        "\n",
        "# Depth-Limited Search function\n",
        "def dfs(v, goal, limit):\n",
        "    if v == goal:  # If the current node is the goal, return success\n",
        "        return 1\n",
        "\n",
        "    for neighbor in graph[v]:  # Iterate through neighbors of the current node\n",
        "        if limit - 1 >= 0:  # Check if depth limit allows further traversal\n",
        "            if dfs(neighbor, goal, limit - 1) != -1:  # Recursive call\n",
        "                return 1\n",
        "    return -1  # If no path found within the depth limit\n",
        "\n",
        "# Input goal node and depth limit\n",
        "goal = int(input(\"Enter goal node: \"))\n",
        "limit = int(input(\"Enter depth limit: \"))\n",
        "\n",
        "# Perform DFS from the starting node (assumed to be 0)\n",
        "result = dfs(0, goal, limit)\n",
        "\n",
        "# Output the result\n",
        "if result == -1:\n",
        "    print(\"Goal not found within the depth limit.\")\n",
        "else:\n",
        "    print(\"Goal found within the depth limit.\")\n"
      ]
    },
    {
      "cell_type": "code",
      "source": [
        "graph = {\n",
        "    'A' : ['B','C'],\n",
        "    'B' : ['D', 'E'],\n",
        "    'C' : ['F'],\n",
        "    'D' : [],\n",
        "    'E' : ['F'],\n",
        "    'F' : []\n",
        "}\n",
        "\n",
        "visited = set() # Set to keep track of visited nodes.\n",
        "\n",
        "def dfs(visited, graph, node):\n",
        "    if node not in visited:\n",
        "        print (node)\n",
        "        visited.add(node)\n",
        "        for neighbour in graph[node]:\n",
        "            dfs(visited, graph, neighbour)\n",
        "\n",
        "# Driver Code\n",
        "dfs(visited, graph, 'A')"
      ],
      "metadata": {
        "colab": {
          "base_uri": "https://localhost:8080/"
        },
        "id": "8UrZdPqFC7SU",
        "outputId": "feb4e7c0-9fa1-4adb-e09c-8c59bbe2933d"
      },
      "execution_count": 4,
      "outputs": [
        {
          "output_type": "stream",
          "name": "stdout",
          "text": [
            "A\n",
            "B\n",
            "D\n",
            "E\n",
            "F\n",
            "C\n"
          ]
        }
      ]
    },
    {
      "cell_type": "code",
      "source": [
        "graph = {\n",
        "  '5' : ['3','7'],\n",
        "  '3' : ['2', '4'],\n",
        "  '7' : ['8'],\n",
        "  '2' : [],\n",
        "  '4' : ['8'],\n",
        "  '8' : []\n",
        "}\n",
        "\n",
        "visited = [] # List for visited nodes.\n",
        "queue = []     #Initialize a queue\n",
        "\n",
        "def bfs(visited, graph, node): #function for BFS\n",
        "  visited.append(node)\n",
        "  queue.append(node)\n",
        "\n",
        "  while queue:          # Creating loop to visit each node\n",
        "    m = queue.pop(0)\n",
        "    print (m, end = \" \")\n",
        "\n",
        "    for neighbour in graph[m]:\n",
        "      if neighbour not in visited:\n",
        "        visited.append(neighbour)\n",
        "        queue.append(neighbour)\n",
        "\n",
        "# Driver Code\n",
        "print(\"Following is the Breadth-First Search\")\n",
        "bfs(visited, graph, '5')    # function calling"
      ],
      "metadata": {
        "colab": {
          "base_uri": "https://localhost:8080/"
        },
        "id": "nvKtzcl7DFMV",
        "outputId": "680e6ae2-dd2f-44cc-b2ab-f660fa95bd63"
      },
      "execution_count": 7,
      "outputs": [
        {
          "output_type": "stream",
          "name": "stdout",
          "text": [
            "Following is the Breadth-First Search\n",
            "5 3 7 2 4 8 "
          ]
        }
      ]
    }
  ]
}